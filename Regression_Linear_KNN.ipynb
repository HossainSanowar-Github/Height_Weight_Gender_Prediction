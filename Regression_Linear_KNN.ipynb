{
 "cells": [
  {
   "cell_type": "markdown",
   "id": "d162fb98-a459-4519-af04-60ad71d79e17",
   "metadata": {},
   "source": [
    "\n",
    "Step 01:\n",
    "\n",
    "KNN Regressor:\n",
    "1. Import data set\n",
    "2. Seperate x and y (y=Weight)\n",
    "3. Train = 70%, Test = 30%\n",
    "4. ApplyLinear Regression\n",
    "5. Evaluate Model (Accuracy, MSE, Prediction)\n",
    "6. Apply KNN Regressor: https://scikit-learn.org/stable/modules/generated/sklearn.neighbors.KNeighborsRegressor.html\n",
    "7. Evaluate Model (Accuracy, MSE, Prediction)\n",
    "\n",
    "Tuning:\n",
    "1. Apply Randomized Search CV to select best K vlaue\n",
    "2. Compare accuracy with default KNN and After tuning K value\n",
    "3. Evaluate Model (Accuracy, MSE, Prediction) and Compare with Old KNN model and Linear regression as well.\n"
   ]
  },
  {
   "cell_type": "code",
   "execution_count": 68,
   "id": "c7dfa000-3c4b-4ebe-ac1e-8df273916111",
   "metadata": {},
   "outputs": [],
   "source": [
    "#Load required libraries\n",
    "import numpy as np\n",
    "import pandas as pd\n",
    "import matplotlib.pyplot as plt\n",
    "%matplotlib inline\n",
    "\n",
    "import seaborn as sns"
   ]
  },
  {
   "cell_type": "code",
   "execution_count": 69,
   "id": "78503be5-8e0a-426f-a761-ee94b7254e75",
   "metadata": {},
   "outputs": [
    {
     "data": {
      "text/html": [
       "<div>\n",
       "<style scoped>\n",
       "    .dataframe tbody tr th:only-of-type {\n",
       "        vertical-align: middle;\n",
       "    }\n",
       "\n",
       "    .dataframe tbody tr th {\n",
       "        vertical-align: top;\n",
       "    }\n",
       "\n",
       "    .dataframe thead th {\n",
       "        text-align: right;\n",
       "    }\n",
       "</style>\n",
       "<table border=\"1\" class=\"dataframe\">\n",
       "  <thead>\n",
       "    <tr style=\"text-align: right;\">\n",
       "      <th></th>\n",
       "      <th>Gender</th>\n",
       "      <th>Height</th>\n",
       "      <th>Weight</th>\n",
       "    </tr>\n",
       "  </thead>\n",
       "  <tbody>\n",
       "    <tr>\n",
       "      <th>0</th>\n",
       "      <td>Male</td>\n",
       "      <td>73.847017</td>\n",
       "      <td>241.893563</td>\n",
       "    </tr>\n",
       "    <tr>\n",
       "      <th>1</th>\n",
       "      <td>Male</td>\n",
       "      <td>68.781904</td>\n",
       "      <td>162.310473</td>\n",
       "    </tr>\n",
       "    <tr>\n",
       "      <th>2</th>\n",
       "      <td>Male</td>\n",
       "      <td>74.110105</td>\n",
       "      <td>212.740856</td>\n",
       "    </tr>\n",
       "    <tr>\n",
       "      <th>3</th>\n",
       "      <td>Male</td>\n",
       "      <td>71.730978</td>\n",
       "      <td>220.042470</td>\n",
       "    </tr>\n",
       "    <tr>\n",
       "      <th>4</th>\n",
       "      <td>Male</td>\n",
       "      <td>69.881796</td>\n",
       "      <td>206.349801</td>\n",
       "    </tr>\n",
       "  </tbody>\n",
       "</table>\n",
       "</div>"
      ],
      "text/plain": [
       "  Gender     Height      Weight\n",
       "0   Male  73.847017  241.893563\n",
       "1   Male  68.781904  162.310473\n",
       "2   Male  74.110105  212.740856\n",
       "3   Male  71.730978  220.042470\n",
       "4   Male  69.881796  206.349801"
      ]
     },
     "execution_count": 69,
     "metadata": {},
     "output_type": "execute_result"
    }
   ],
   "source": [
    "#Load dataset\n",
    "dataset=pd.read_csv(\"weight-height.csv\")\n",
    "df=dataset.copy()\n",
    "df.head()"
   ]
  },
  {
   "cell_type": "code",
   "execution_count": 70,
   "id": "378d7881-d8a0-4c82-ad69-61e5f40f1afb",
   "metadata": {},
   "outputs": [
    {
     "data": {
      "text/plain": [
       "Gender    0\n",
       "Height    0\n",
       "Weight    0\n",
       "dtype: int64"
      ]
     },
     "execution_count": 70,
     "metadata": {},
     "output_type": "execute_result"
    }
   ],
   "source": [
    "# Checking the missing value\n",
    "df.isnull().sum()"
   ]
  },
  {
   "cell_type": "code",
   "execution_count": 10,
   "id": "ca57fc96-ca23-47ea-8033-40b88209363c",
   "metadata": {},
   "outputs": [],
   "source": [
    "# Separate dependent and Independent varibale\n",
    "x=df.drop(['Gender','Weight'],axis=1)\n",
    "y=df['Weight']"
   ]
  },
  {
   "cell_type": "code",
   "execution_count": 20,
   "id": "6d49ee21-029a-413c-96e8-f0d0565c0fe4",
   "metadata": {},
   "outputs": [],
   "source": [
    "#Spliting dataset for training and testing purpose\n",
    "\n",
    "from sklearn.model_selection import train_test_split\n",
    "xtrain, xtest, ytrain, ytest=train_test_split(x,y,test_size=0.3,random_state=1) "
   ]
  },
  {
   "cell_type": "markdown",
   "id": "3fcd0055-4eb7-45e5-8adf-ea26d28d882b",
   "metadata": {},
   "source": [
    "# Linear Regression model"
   ]
  },
  {
   "cell_type": "code",
   "execution_count": 56,
   "id": "0cb00328-849c-4877-ac20-c9a620833103",
   "metadata": {},
   "outputs": [
    {
     "name": "stdout",
     "output_type": "stream",
     "text": [
      "Accuracy of Linear Regression: 86.0 %\n"
     ]
    }
   ],
   "source": [
    "from sklearn.linear_model import LinearRegression\n",
    "reg_model=LinearRegression()\n",
    "reg_model.fit(xtrain, ytrain)\n",
    "#reg_model.coef_\n",
    "#reg_model.intercept_\n",
    "pred=reg_model.predict(xtest)\n",
    "accuracy=reg_model.score(xtest,ytest)\n",
    "print(\"Accuracy of Linear Regression:\",round(accuracy,2)*100,'%')"
   ]
  },
  {
   "cell_type": "code",
   "execution_count": 59,
   "id": "a6ad69c1-8203-42b5-a5fb-1afcfd1981f6",
   "metadata": {},
   "outputs": [
    {
     "name": "stdout",
     "output_type": "stream",
     "text": [
      "MSE of Linear Regression:  149.64\n"
     ]
    }
   ],
   "source": [
    "#Evaluation the Linear Regression model\n",
    "from sklearn.metrics import mean_squared_error\n",
    "mse=mean_squared_error(ytest,pred)\n",
    "print(\"MSE of Linear Regression: \",round(mse,2))"
   ]
  },
  {
   "cell_type": "code",
   "execution_count": 60,
   "id": "ea72b6e6-9f3a-4ac8-8301-7bc31af3aaf9",
   "metadata": {},
   "outputs": [
    {
     "data": {
      "text/plain": [
       "array([235.90739354])"
      ]
     },
     "execution_count": 60,
     "metadata": {},
     "output_type": "execute_result"
    }
   ],
   "source": [
    "# Predict the Linear Regression model\n",
    "reg_model.predict([[76]])"
   ]
  },
  {
   "cell_type": "markdown",
   "id": "d0a58121-16de-46ca-80c6-2ddc4178fa76",
   "metadata": {},
   "source": [
    "# KNN Regression Model"
   ]
  },
  {
   "cell_type": "code",
   "execution_count": 62,
   "id": "d1bca3d5-8e7d-44f0-9e3f-b2a994461a0c",
   "metadata": {},
   "outputs": [
    {
     "name": "stdout",
     "output_type": "stream",
     "text": [
      "Accuracy of KNN Regression:  83.0 %\n"
     ]
    }
   ],
   "source": [
    "from sklearn.neighbors import KNeighborsRegressor\n",
    "reg_knn=KNeighborsRegressor()\n",
    "reg_knn.fit(xtrain,ytrain)\n",
    "pred_reg_knn=reg_knn.predict(xtest)\n",
    "accuracy_knn=reg_knn.score(xtest,ytest)\n",
    "print(\"Accuracy of KNN Regression: \", round(accuracy_knn,2)*100,'%')"
   ]
  },
  {
   "cell_type": "code",
   "execution_count": 65,
   "id": "4aa72369-7b96-44f7-a28d-0caacc6bf690",
   "metadata": {},
   "outputs": [
    {
     "name": "stdout",
     "output_type": "stream",
     "text": [
      "MSE of KNN Regression:  180.19\n"
     ]
    }
   ],
   "source": [
    "# Calculate the mean squared error for KNN regression\n",
    "from sklearn.metrics import mean_squared_error\n",
    "mse_knn=mean_squared_error(ytest,pred_reg_knn)\n",
    "print(\"MSE of KNN Regression: \",round(mse_knn,2))"
   ]
  },
  {
   "cell_type": "code",
   "execution_count": 66,
   "id": "5330e4d9-fbc9-4669-87c4-20cfe7a32cde",
   "metadata": {},
   "outputs": [
    {
     "data": {
      "text/plain": [
       "array([230.72518426])"
      ]
     },
     "execution_count": 66,
     "metadata": {},
     "output_type": "execute_result"
    }
   ],
   "source": [
    "reg_knn.predict([[76]])"
   ]
  },
  {
   "cell_type": "markdown",
   "id": "9a172ed2-5315-4d91-ba50-afbf0eb02687",
   "metadata": {},
   "source": [
    "# Discussion:"
   ]
  },
  {
   "cell_type": "markdown",
   "id": "3227d824-448d-4b11-9244-95a9e9e005b2",
   "metadata": {},
   "source": [
    "I have got the higest accuracy in linear regression which is 86% rather than KNN regression. Also, I have got the lower mean squared error and better prediction results in linear regression. Linear regression model is perfomr better than KNN regression. "
   ]
  },
  {
   "cell_type": "markdown",
   "id": "d8fa8c80-d5e5-4d37-98bd-6b7b9493b1cd",
   "metadata": {},
   "source": [
    "# Tuning Randomized Search CV:\n",
    "\n",
    "* Apply Randomized Search CV to select best K vlaue\n",
    "* Compare accuracy with default KNN and After tuning K value\n",
    "* Evaluate Model (Accuracy, MSE, Prediction) and Compare with Old KNN model and Linear regression as well."
   ]
  },
  {
   "cell_type": "code",
   "execution_count": 105,
   "id": "49c1aad1-f913-414a-a5bc-bb4422f727a4",
   "metadata": {},
   "outputs": [],
   "source": [
    "#K_means cluster algorithm\n",
    "import sklearn.cluster as cluster\n",
    "from sklearn.cluster import KMeans\n",
    "#calculate number of cluster\n",
    "wcss=[]\n",
    "clusters=range(1,12)\n",
    "for k in range(1,12):\n",
    "  km = KMeans(n_clusters=k)\n",
    "  km.fit(df[['Height','Weight']]) \n",
    "  wcss.append(km.inertia_)"
   ]
  },
  {
   "cell_type": "code",
   "execution_count": 106,
   "id": "41a462d8-ed2a-4a95-9708-d61da7774572",
   "metadata": {},
   "outputs": [
    {
     "data": {
      "image/png": "[encoded data removed]",
      "text/plain": [
       "<Figure size 432x288 with 1 Axes>"
      ]
     },
     "metadata": {
      "needs_background": "light"
     },
     "output_type": "display_data"
    }
   ],
   "source": [
    "plt.plot(clusters, wcss)\n",
    "plt.xlabel(\"Number of Cluster\")\n",
    "plt.ylabel(\"Sum of Squared Errors\")\n",
    "plt.show()"
   ]
  },
  {
   "cell_type": "code",
   "execution_count": 122,
   "id": "a87636b2-54e0-4eba-ba71-c31a303519fd",
   "metadata": {},
   "outputs": [
    {
     "name": "stdout",
     "output_type": "stream",
     "text": [
      "Optimal Number of Cluster is 3\n"
     ]
    }
   ],
   "source": [
    "#!pip install kneed\n",
    "from kneed import KneeLocator\n",
    "kneed_locator=KneeLocator(clusters, wcss, curve='convex',direction='decreasing')\n",
    "optimal_cluster=kneed_locator.knee\n",
    "print('Optimal Number of Cluster is', optimal_cluster)"
   ]
  },
  {
   "cell_type": "code",
   "execution_count": 123,
   "id": "74b408bd-e389-41e3-8d09-48a0cdd9a1e8",
   "metadata": {},
   "outputs": [
    {
     "data": {
      "image/png": "[encoded data removed]",
      "text/plain": [
       "<Figure size 432x432 with 1 Axes>"
      ]
     },
     "metadata": {
      "needs_background": "light"
     },
     "output_type": "display_data"
    }
   ],
   "source": [
    "kneed_locator.plot_knee()\n",
    "plt.xlabel(\"Number of Cluster\")\n",
    "plt.ylabel(\"Sum of Squared Errors\")\n",
    "plt.show()"
   ]
  },
  {
   "cell_type": "code",
   "execution_count": 131,
   "id": "9d8e667f-2eb0-4f8a-98b0-d391aedb5157",
   "metadata": {},
   "outputs": [
    {
     "name": "stdout",
     "output_type": "stream",
     "text": [
      "Accuracy of KNN Regression:  84.0 %\n"
     ]
    }
   ],
   "source": [
    "from sklearn.neighbors import KNeighborsRegressor\n",
    "\n",
    "#n_neighbors=5, *, weights='uniform', algorithm='auto', leaf_size=30, p=2, metric='minkowski', metric_params=None, n_jobs=None\n",
    "reg_knn=KNeighborsRegressor(n_neighbors=7,weights='uniform',algorithm='kd_tree',leaf_size=30,p=2,metric='minkowski')\n",
    "reg_knn.fit(xtrain,ytrain)\n",
    "pred_reg_knn=reg_knn.predict(xtest)\n",
    "accuracy_knn=reg_knn.score(xtest,ytest)\n",
    "print(\"Accuracy of KNN Regression: \", round(accuracy_knn,2)*100,'%')"
   ]
  },
  {
   "cell_type": "code",
   "execution_count": 132,
   "id": "4b1b868f-17ed-43ef-be00-e37958e22306",
   "metadata": {},
   "outputs": [
    {
     "name": "stdout",
     "output_type": "stream",
     "text": [
      "MSE of KNN Regression:  171.51\n"
     ]
    }
   ],
   "source": [
    "# Calculate the mean squared error for KNN regression\n",
    "from sklearn.metrics import mean_squared_error\n",
    "mse_knn=mean_squared_error(ytest,pred_reg_knn)\n",
    "print(\"MSE of KNN Regression: \",round(mse_knn,2))"
   ]
  },
  {
   "cell_type": "code",
   "execution_count": 133,
   "id": "22accbe7-b189-4b3c-8a2e-e22f56a3c987",
   "metadata": {},
   "outputs": [
    {
     "data": {
      "text/plain": [
       "array([231.92957151])"
      ]
     },
     "execution_count": 133,
     "metadata": {},
     "output_type": "execute_result"
    }
   ],
   "source": [
    "reg_knn.predict([[76]])"
   ]
  },
  {
   "cell_type": "markdown",
   "id": "733a1453-30f5-42a5-83e9-193c9bc19f69",
   "metadata": {},
   "source": [
    "# Discussion: \n",
    "I have got the higest accuracy when k is 7. 2% accuracy is increased than older default K value 5 for KNN regression, but still 2% is less accuracy from  linear regression. Also, 10% is improved the mean squared error after tunning the KNN regression."
   ]
  },
  {
   "cell_type": "code",
   "execution_count": null,
   "id": "0a361d7a-11cb-4b9b-9703-5a4939fdee42",
   "metadata": {},
   "outputs": [],
   "source": []
  }
 ],
 "metadata": {
  "kernelspec": {
   "display_name": "Python 3 (ipykernel)",
   "language": "python",
   "name": "python3"
  },
  "language_info": {
   "codemirror_mode": {
    "name": "ipython",
    "version": 3
   },
   "file_extension": ".py",
   "mimetype": "text/x-python",
   "name": "python",
   "nbconvert_exporter": "python",
   "pygments_lexer": "ipython3",
   "version": "3.9.7"
  }
 },
 "nbformat": 4,
 "nbformat_minor": 5
}
